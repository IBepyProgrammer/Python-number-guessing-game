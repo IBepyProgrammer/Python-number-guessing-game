{
 "cells": [
  {
   "cell_type": "code",
   "execution_count": 1,
   "id": "c1b3b118",
   "metadata": {},
   "outputs": [],
   "source": [
    "import random"
   ]
  },
  {
   "cell_type": "code",
   "execution_count": 2,
   "id": "5b3c57c5",
   "metadata": {},
   "outputs": [],
   "source": [
    "def number_guessing(limit, number):\n",
    "    # From the random module we use \"randint\" to generate a random integer number\n",
    "    random_num = random.randint(1, number)\n",
    "    try:\n",
    "        while limit > 0:\n",
    "            guess = int(input(\"Enter your gurss: \"))\n",
    "            limit -=1\n",
    "            if random_num == guess:\n",
    "                print(\"You are Correct!\")\n",
    "                break\n",
    "            elif guess > number:\n",
    "                print(\"Try again!\")\n",
    "                print(f\"You have {limit} tries\")\n",
    "            else:\n",
    "                print(\"Sorry, You Failed!\")\n",
    "                print(f\"You have {limit} tries\")\n",
    "        print(\"Game Over\")\n",
    "        print(f\"The random number was {random_num}\")\n",
    "    except ValueError:\n",
    "        print(\"Enter Integers only!\")\n",
    "        \n",
    "#In the code above, the program will execute the try block of code.\n",
    "#If there is an error in the try block, The except block of code is executed instead.    \n",
    "def easy():\n",
    "    print(\"Guess a number between 1 and 10. You only have 5 tries\")\n",
    "    number_guessing(5, 10)\n",
    "    \n",
    "def medium():\n",
    "    print(\"Guess a number between 1 and 20. You only have 4 tries\")\n",
    "    number_guessing(4, 20)\n",
    "    \n",
    "def hard():\n",
    "    print(\"Guess a number between 1 and 50. You only have 3 tries\")\n",
    "    number_guessing(3, 50)\n",
    "\n",
    "# In the block of code above we create 3 functions that will allow \n",
    "# the player to choose the difficulty of the number guessing game.    \n",
    "def try_again():\n",
    "    retry = input(\"Do you want to try again? Y/N\")\n",
    "    if retry.upper() == \"Y\":\n",
    "        welcome()\n",
    "    elif retry.upper() == \"N\":\n",
    "        print(\"Thanks for playing\")\n",
    "    else:\n",
    "        print(\"Enter Y / N\")\n",
    "        try_again()\n",
    "        \n",
    "# The block of code above will allow the user to quit the game when they run out of tries and or if they guess correctyly.        \n",
    "        \n",
    "def welcome():\n",
    "    print(\"Let's Play a Guessing Game!\")\n",
    "    level = input(\"Choose your level. Easy, Medium, Hard\")\n",
    "    if level.upper() == \"EASY\":\n",
    "        easy()\n",
    "        try_again()\n",
    "        \n",
    "    elif level.upper() == \"MEDIUM\":\n",
    "        medium()\n",
    "        try_again()\n",
    "        \n",
    "    elif level.upper() == \"HARD\":\n",
    "        hard()\n",
    "        try_again()\n",
    "        \n",
    "    else:\n",
    "        print(\"Invalid Input\")\n",
    "        welcome()        \n",
    "# The block of code above is the function that allows the player to pick the difficulty of the game. The player is given the\n",
    "#  option to pick between \"Easy\", \"Medium\", and \"Hard\". "
   ]
  },
  {
   "cell_type": "code",
   "execution_count": 3,
   "id": "a0db8b23",
   "metadata": {},
   "outputs": [
    {
     "name": "stdout",
     "output_type": "stream",
     "text": [
      "Let's Play a Guessing Game!\n",
      "Choose your level. Easy, Medium, HardEASY\n",
      "Guess a number between 1 and 10. You only have 5 tries\n",
      "Enter your gurss: 8\n",
      "Sorry, You Failed!\n",
      "You have 4 tries\n",
      "Enter your gurss: 5\n",
      "Sorry, You Failed!\n",
      "You have 3 tries\n",
      "Enter your gurss: 1\n",
      "Sorry, You Failed!\n",
      "You have 2 tries\n",
      "Enter your gurss: 4\n",
      "You are Correct!\n",
      "Game Over\n",
      "The random number was 4\n",
      "Do you want to try again? Y/NY\n",
      "Let's Play a Guessing Game!\n",
      "Choose your level. Easy, Medium, HardMEDIUM\n",
      "Guess a number between 1 and 20. You only have 4 tries\n",
      "Enter your gurss: Y\n",
      "Enter Integers only!\n",
      "Do you want to try again? Y/N.\n",
      "Enter Y / N\n",
      "Do you want to try again? Y/N8\n",
      "Enter Y / N\n",
      "Do you want to try again? Y/NN\n",
      "Thanks for playing\n"
     ]
    }
   ],
   "source": [
    "welcome()"
   ]
  }
 ],
 "metadata": {
  "kernelspec": {
   "display_name": "Python 3 (ipykernel)",
   "language": "python",
   "name": "python3"
  },
  "language_info": {
   "codemirror_mode": {
    "name": "ipython",
    "version": 3
   },
   "file_extension": ".py",
   "mimetype": "text/x-python",
   "name": "python",
   "nbconvert_exporter": "python",
   "pygments_lexer": "ipython3",
   "version": "3.9.13"
  }
 },
 "nbformat": 4,
 "nbformat_minor": 5
}
